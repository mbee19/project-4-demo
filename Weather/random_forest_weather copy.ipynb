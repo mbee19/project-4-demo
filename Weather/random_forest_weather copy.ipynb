{
 "cells": [
  {
   "cell_type": "code",
   "execution_count": 1,
   "metadata": {},
   "outputs": [],
   "source": [
    "import pandas as pd\n",
    "import numpy as np\n",
    "import matplotlib.pyplot as plt\n",
    "import seaborn as sns\n",
    "from sklearn.model_selection import train_test_split\n",
    "from sklearn.preprocessing import PolynomialFeatures, OneHotEncoder, StandardScaler\n",
    "from sklearn.linear_model import LinearRegression\n",
    "from sklearn.metrics import mean_squared_error, r2_score\n",
    "from datetime import datetime as dt\n",
    "from sklearn.ensemble import RandomForestRegressor\n",
    "from sklearn.metrics import confusion_matrix, accuracy_score, classification_report\n",
    "import joblib\n"
   ]
  },
  {
   "cell_type": "code",
   "execution_count": 2,
   "metadata": {},
   "outputs": [
    {
     "data": {
      "text/html": [
       "<div>\n",
       "<style scoped>\n",
       "    .dataframe tbody tr th:only-of-type {\n",
       "        vertical-align: middle;\n",
       "    }\n",
       "\n",
       "    .dataframe tbody tr th {\n",
       "        vertical-align: top;\n",
       "    }\n",
       "\n",
       "    .dataframe thead th {\n",
       "        text-align: right;\n",
       "    }\n",
       "</style>\n",
       "<table border=\"1\" class=\"dataframe\">\n",
       "  <thead>\n",
       "    <tr style=\"text-align: right;\">\n",
       "      <th></th>\n",
       "      <th>date</th>\n",
       "      <th>tavg_f</th>\n",
       "      <th>tmin_f</th>\n",
       "      <th>tmax_f</th>\n",
       "      <th>Location</th>\n",
       "    </tr>\n",
       "  </thead>\n",
       "  <tbody>\n",
       "    <tr>\n",
       "      <th>0</th>\n",
       "      <td>2018-01-01</td>\n",
       "      <td>56.12</td>\n",
       "      <td>46.04</td>\n",
       "      <td>69.98</td>\n",
       "      <td>Anaheim</td>\n",
       "    </tr>\n",
       "    <tr>\n",
       "      <th>1</th>\n",
       "      <td>2018-01-02</td>\n",
       "      <td>60.80</td>\n",
       "      <td>51.08</td>\n",
       "      <td>78.98</td>\n",
       "      <td>Anaheim</td>\n",
       "    </tr>\n",
       "    <tr>\n",
       "      <th>2</th>\n",
       "      <td>2018-01-03</td>\n",
       "      <td>61.34</td>\n",
       "      <td>51.08</td>\n",
       "      <td>73.94</td>\n",
       "      <td>Anaheim</td>\n",
       "    </tr>\n",
       "    <tr>\n",
       "      <th>3</th>\n",
       "      <td>2018-01-04</td>\n",
       "      <td>62.06</td>\n",
       "      <td>50.00</td>\n",
       "      <td>77.00</td>\n",
       "      <td>Anaheim</td>\n",
       "    </tr>\n",
       "    <tr>\n",
       "      <th>4</th>\n",
       "      <td>2018-01-05</td>\n",
       "      <td>62.24</td>\n",
       "      <td>51.98</td>\n",
       "      <td>75.02</td>\n",
       "      <td>Anaheim</td>\n",
       "    </tr>\n",
       "  </tbody>\n",
       "</table>\n",
       "</div>"
      ],
      "text/plain": [
       "         date  tavg_f  tmin_f  tmax_f Location\n",
       "0  2018-01-01   56.12   46.04   69.98  Anaheim\n",
       "1  2018-01-02   60.80   51.08   78.98  Anaheim\n",
       "2  2018-01-03   61.34   51.08   73.94  Anaheim\n",
       "3  2018-01-04   62.06   50.00   77.00  Anaheim\n",
       "4  2018-01-05   62.24   51.98   75.02  Anaheim"
      ]
     },
     "execution_count": 2,
     "metadata": {},
     "output_type": "execute_result"
    }
   ],
   "source": [
    "# Read in csv\n",
    "df_temps = pd.read_csv('Resources/combined_weather_f.csv')\n",
    "df_temps.head()"
   ]
  },
  {
   "cell_type": "code",
   "execution_count": 3,
   "metadata": {},
   "outputs": [
    {
     "name": "stdout",
     "output_type": "stream",
     "text": [
      "<class 'pandas.core.frame.DataFrame'>\n",
      "RangeIndex: 8758 entries, 0 to 8757\n",
      "Data columns (total 5 columns):\n",
      " #   Column    Non-Null Count  Dtype  \n",
      "---  ------    --------------  -----  \n",
      " 0   date      8758 non-null   object \n",
      " 1   tavg_f    8758 non-null   float64\n",
      " 2   tmin_f    8758 non-null   float64\n",
      " 3   tmax_f    8758 non-null   float64\n",
      " 4   Location  8758 non-null   object \n",
      "dtypes: float64(3), object(2)\n",
      "memory usage: 342.2+ KB\n"
     ]
    }
   ],
   "source": [
    "df_temps.info()"
   ]
  },
  {
   "cell_type": "code",
   "execution_count": 4,
   "metadata": {},
   "outputs": [
    {
     "data": {
      "text/html": [
       "<div>\n",
       "<style scoped>\n",
       "    .dataframe tbody tr th:only-of-type {\n",
       "        vertical-align: middle;\n",
       "    }\n",
       "\n",
       "    .dataframe tbody tr th {\n",
       "        vertical-align: top;\n",
       "    }\n",
       "\n",
       "    .dataframe thead th {\n",
       "        text-align: right;\n",
       "    }\n",
       "</style>\n",
       "<table border=\"1\" class=\"dataframe\">\n",
       "  <thead>\n",
       "    <tr style=\"text-align: right;\">\n",
       "      <th></th>\n",
       "      <th>date</th>\n",
       "      <th>tavg_f</th>\n",
       "      <th>tmin_f</th>\n",
       "      <th>tmax_f</th>\n",
       "      <th>Location</th>\n",
       "    </tr>\n",
       "  </thead>\n",
       "  <tbody>\n",
       "    <tr>\n",
       "      <th>0</th>\n",
       "      <td>2018-01-01</td>\n",
       "      <td>56.12</td>\n",
       "      <td>46.04</td>\n",
       "      <td>69.98</td>\n",
       "      <td>Anaheim</td>\n",
       "    </tr>\n",
       "    <tr>\n",
       "      <th>1</th>\n",
       "      <td>2018-01-02</td>\n",
       "      <td>60.80</td>\n",
       "      <td>51.08</td>\n",
       "      <td>78.98</td>\n",
       "      <td>Anaheim</td>\n",
       "    </tr>\n",
       "    <tr>\n",
       "      <th>2</th>\n",
       "      <td>2018-01-03</td>\n",
       "      <td>61.34</td>\n",
       "      <td>51.08</td>\n",
       "      <td>73.94</td>\n",
       "      <td>Anaheim</td>\n",
       "    </tr>\n",
       "    <tr>\n",
       "      <th>3</th>\n",
       "      <td>2018-01-04</td>\n",
       "      <td>62.06</td>\n",
       "      <td>50.00</td>\n",
       "      <td>77.00</td>\n",
       "      <td>Anaheim</td>\n",
       "    </tr>\n",
       "    <tr>\n",
       "      <th>4</th>\n",
       "      <td>2018-01-05</td>\n",
       "      <td>62.24</td>\n",
       "      <td>51.98</td>\n",
       "      <td>75.02</td>\n",
       "      <td>Anaheim</td>\n",
       "    </tr>\n",
       "    <tr>\n",
       "      <th>...</th>\n",
       "      <td>...</td>\n",
       "      <td>...</td>\n",
       "      <td>...</td>\n",
       "      <td>...</td>\n",
       "      <td>...</td>\n",
       "    </tr>\n",
       "    <tr>\n",
       "      <th>2186</th>\n",
       "      <td>2023-12-27</td>\n",
       "      <td>56.84</td>\n",
       "      <td>48.92</td>\n",
       "      <td>66.02</td>\n",
       "      <td>Anaheim</td>\n",
       "    </tr>\n",
       "    <tr>\n",
       "      <th>2187</th>\n",
       "      <td>2023-12-28</td>\n",
       "      <td>59.00</td>\n",
       "      <td>53.06</td>\n",
       "      <td>68.00</td>\n",
       "      <td>Anaheim</td>\n",
       "    </tr>\n",
       "    <tr>\n",
       "      <th>2188</th>\n",
       "      <td>2023-12-29</td>\n",
       "      <td>57.02</td>\n",
       "      <td>48.92</td>\n",
       "      <td>66.02</td>\n",
       "      <td>Anaheim</td>\n",
       "    </tr>\n",
       "    <tr>\n",
       "      <th>2189</th>\n",
       "      <td>2023-12-30</td>\n",
       "      <td>57.74</td>\n",
       "      <td>53.06</td>\n",
       "      <td>64.94</td>\n",
       "      <td>Anaheim</td>\n",
       "    </tr>\n",
       "    <tr>\n",
       "      <th>2190</th>\n",
       "      <td>2023-12-31</td>\n",
       "      <td>55.76</td>\n",
       "      <td>51.98</td>\n",
       "      <td>60.08</td>\n",
       "      <td>Anaheim</td>\n",
       "    </tr>\n",
       "  </tbody>\n",
       "</table>\n",
       "<p>2191 rows × 5 columns</p>\n",
       "</div>"
      ],
      "text/plain": [
       "            date  tavg_f  tmin_f  tmax_f Location\n",
       "0     2018-01-01   56.12   46.04   69.98  Anaheim\n",
       "1     2018-01-02   60.80   51.08   78.98  Anaheim\n",
       "2     2018-01-03   61.34   51.08   73.94  Anaheim\n",
       "3     2018-01-04   62.06   50.00   77.00  Anaheim\n",
       "4     2018-01-05   62.24   51.98   75.02  Anaheim\n",
       "...          ...     ...     ...     ...      ...\n",
       "2186  2023-12-27   56.84   48.92   66.02  Anaheim\n",
       "2187  2023-12-28   59.00   53.06   68.00  Anaheim\n",
       "2188  2023-12-29   57.02   48.92   66.02  Anaheim\n",
       "2189  2023-12-30   57.74   53.06   64.94  Anaheim\n",
       "2190  2023-12-31   55.76   51.98   60.08  Anaheim\n",
       "\n",
       "[2191 rows x 5 columns]"
      ]
     },
     "execution_count": 4,
     "metadata": {},
     "output_type": "execute_result"
    }
   ],
   "source": [
    "#df = df[df['col2'] != 'B']\n",
    "df_temps = df_temps[df_temps['Location'] != \"Epcot\"]\n",
    "df_temps = df_temps[df_temps['Location'] != \"Hong Kong\"]\n",
    "df_temps = df_temps[df_temps['Location'] != \"Paris\"]\n",
    "df_temps"
   ]
  },
  {
   "cell_type": "code",
   "execution_count": 5,
   "metadata": {},
   "outputs": [],
   "source": [
    "df_temps = df_temps[['date', 'tavg_f', 'Location']]"
   ]
  },
  {
   "cell_type": "code",
   "execution_count": 6,
   "metadata": {},
   "outputs": [
    {
     "name": "stderr",
     "output_type": "stream",
     "text": [
      "/var/folders/58/04m6kvfj64s19nn83y7mz4zr0000gn/T/ipykernel_23045/4227997701.py:1: SettingWithCopyWarning: \n",
      "A value is trying to be set on a copy of a slice from a DataFrame.\n",
      "Try using .loc[row_indexer,col_indexer] = value instead\n",
      "\n",
      "See the caveats in the documentation: https://pandas.pydata.org/pandas-docs/stable/user_guide/indexing.html#returning-a-view-versus-a-copy\n",
      "  df_temps['date'] = pd.to_datetime(df_temps['date'])\n",
      "/var/folders/58/04m6kvfj64s19nn83y7mz4zr0000gn/T/ipykernel_23045/4227997701.py:2: SettingWithCopyWarning: \n",
      "A value is trying to be set on a copy of a slice from a DataFrame.\n",
      "Try using .loc[row_indexer,col_indexer] = value instead\n",
      "\n",
      "See the caveats in the documentation: https://pandas.pydata.org/pandas-docs/stable/user_guide/indexing.html#returning-a-view-versus-a-copy\n",
      "  df_temps['date'] = df_temps['date'].apply(lambda x: x.toordinal())\n"
     ]
    },
    {
     "data": {
      "text/html": [
       "<div>\n",
       "<style scoped>\n",
       "    .dataframe tbody tr th:only-of-type {\n",
       "        vertical-align: middle;\n",
       "    }\n",
       "\n",
       "    .dataframe tbody tr th {\n",
       "        vertical-align: top;\n",
       "    }\n",
       "\n",
       "    .dataframe thead th {\n",
       "        text-align: right;\n",
       "    }\n",
       "</style>\n",
       "<table border=\"1\" class=\"dataframe\">\n",
       "  <thead>\n",
       "    <tr style=\"text-align: right;\">\n",
       "      <th></th>\n",
       "      <th>date</th>\n",
       "      <th>tavg_f</th>\n",
       "      <th>Location</th>\n",
       "    </tr>\n",
       "  </thead>\n",
       "  <tbody>\n",
       "    <tr>\n",
       "      <th>0</th>\n",
       "      <td>736695</td>\n",
       "      <td>56.12</td>\n",
       "      <td>Anaheim</td>\n",
       "    </tr>\n",
       "    <tr>\n",
       "      <th>1</th>\n",
       "      <td>736696</td>\n",
       "      <td>60.80</td>\n",
       "      <td>Anaheim</td>\n",
       "    </tr>\n",
       "    <tr>\n",
       "      <th>2</th>\n",
       "      <td>736697</td>\n",
       "      <td>61.34</td>\n",
       "      <td>Anaheim</td>\n",
       "    </tr>\n",
       "    <tr>\n",
       "      <th>3</th>\n",
       "      <td>736698</td>\n",
       "      <td>62.06</td>\n",
       "      <td>Anaheim</td>\n",
       "    </tr>\n",
       "    <tr>\n",
       "      <th>4</th>\n",
       "      <td>736699</td>\n",
       "      <td>62.24</td>\n",
       "      <td>Anaheim</td>\n",
       "    </tr>\n",
       "  </tbody>\n",
       "</table>\n",
       "</div>"
      ],
      "text/plain": [
       "     date  tavg_f Location\n",
       "0  736695   56.12  Anaheim\n",
       "1  736696   60.80  Anaheim\n",
       "2  736697   61.34  Anaheim\n",
       "3  736698   62.06  Anaheim\n",
       "4  736699   62.24  Anaheim"
      ]
     },
     "execution_count": 6,
     "metadata": {},
     "output_type": "execute_result"
    }
   ],
   "source": [
    "df_temps['date'] = pd.to_datetime(df_temps['date'])\n",
    "df_temps['date'] = df_temps['date'].apply(lambda x: x.toordinal())\n",
    "df_temps.head()"
   ]
  },
  {
   "cell_type": "code",
   "execution_count": 7,
   "metadata": {},
   "outputs": [
    {
     "name": "stdout",
     "output_type": "stream",
     "text": [
      "<class 'pandas.core.frame.DataFrame'>\n",
      "Index: 2191 entries, 0 to 2190\n",
      "Data columns (total 3 columns):\n",
      " #   Column    Non-Null Count  Dtype  \n",
      "---  ------    --------------  -----  \n",
      " 0   date      2191 non-null   int64  \n",
      " 1   tavg_f    2191 non-null   float64\n",
      " 2   Location  2191 non-null   object \n",
      "dtypes: float64(1), int64(1), object(1)\n",
      "memory usage: 68.5+ KB\n"
     ]
    }
   ],
   "source": [
    "df_temps.info()"
   ]
  },
  {
   "cell_type": "code",
   "execution_count": 8,
   "metadata": {},
   "outputs": [
    {
     "data": {
      "text/plain": [
       "['Location']"
      ]
     },
     "execution_count": 8,
     "metadata": {},
     "output_type": "execute_result"
    }
   ],
   "source": [
    "# Separate out categories for One Hot Encoding\n",
    "cats = df_temps.dtypes[df_temps.dtypes == 'object'].index.tolist()\n",
    "cats"
   ]
  },
  {
   "cell_type": "code",
   "execution_count": 9,
   "metadata": {},
   "outputs": [
    {
     "data": {
      "text/html": [
       "<div>\n",
       "<style scoped>\n",
       "    .dataframe tbody tr th:only-of-type {\n",
       "        vertical-align: middle;\n",
       "    }\n",
       "\n",
       "    .dataframe tbody tr th {\n",
       "        vertical-align: top;\n",
       "    }\n",
       "\n",
       "    .dataframe thead th {\n",
       "        text-align: right;\n",
       "    }\n",
       "</style>\n",
       "<table border=\"1\" class=\"dataframe\">\n",
       "  <thead>\n",
       "    <tr style=\"text-align: right;\">\n",
       "      <th></th>\n",
       "      <th>Location_Anaheim</th>\n",
       "    </tr>\n",
       "  </thead>\n",
       "  <tbody>\n",
       "    <tr>\n",
       "      <th>0</th>\n",
       "      <td>1.0</td>\n",
       "    </tr>\n",
       "    <tr>\n",
       "      <th>1</th>\n",
       "      <td>1.0</td>\n",
       "    </tr>\n",
       "    <tr>\n",
       "      <th>2</th>\n",
       "      <td>1.0</td>\n",
       "    </tr>\n",
       "    <tr>\n",
       "      <th>3</th>\n",
       "      <td>1.0</td>\n",
       "    </tr>\n",
       "    <tr>\n",
       "      <th>4</th>\n",
       "      <td>1.0</td>\n",
       "    </tr>\n",
       "    <tr>\n",
       "      <th>...</th>\n",
       "      <td>...</td>\n",
       "    </tr>\n",
       "    <tr>\n",
       "      <th>2186</th>\n",
       "      <td>1.0</td>\n",
       "    </tr>\n",
       "    <tr>\n",
       "      <th>2187</th>\n",
       "      <td>1.0</td>\n",
       "    </tr>\n",
       "    <tr>\n",
       "      <th>2188</th>\n",
       "      <td>1.0</td>\n",
       "    </tr>\n",
       "    <tr>\n",
       "      <th>2189</th>\n",
       "      <td>1.0</td>\n",
       "    </tr>\n",
       "    <tr>\n",
       "      <th>2190</th>\n",
       "      <td>1.0</td>\n",
       "    </tr>\n",
       "  </tbody>\n",
       "</table>\n",
       "<p>2191 rows × 1 columns</p>\n",
       "</div>"
      ],
      "text/plain": [
       "      Location_Anaheim\n",
       "0                  1.0\n",
       "1                  1.0\n",
       "2                  1.0\n",
       "3                  1.0\n",
       "4                  1.0\n",
       "...                ...\n",
       "2186               1.0\n",
       "2187               1.0\n",
       "2188               1.0\n",
       "2189               1.0\n",
       "2190               1.0\n",
       "\n",
       "[2191 rows x 1 columns]"
      ]
     },
     "execution_count": 9,
     "metadata": {},
     "output_type": "execute_result"
    }
   ],
   "source": [
    "# One Hot Encoding for binary classification of locations\n",
    "\n",
    "enc = OneHotEncoder(sparse_output=False)\n",
    "\n",
    "encode_df = pd.DataFrame(enc.fit_transform(df_temps[cats]))\n",
    "\n",
    "encode_df.columns = enc.get_feature_names_out(['Location'])\n",
    "encode_df"
   ]
  },
  {
   "cell_type": "code",
   "execution_count": 10,
   "metadata": {},
   "outputs": [
    {
     "name": "stdout",
     "output_type": "stream",
     "text": [
      "<class 'pandas.core.frame.DataFrame'>\n",
      "RangeIndex: 2191 entries, 0 to 2190\n",
      "Data columns (total 1 columns):\n",
      " #   Column            Non-Null Count  Dtype  \n",
      "---  ------            --------------  -----  \n",
      " 0   Location_Anaheim  2191 non-null   float64\n",
      "dtypes: float64(1)\n",
      "memory usage: 17.2 KB\n"
     ]
    }
   ],
   "source": [
    "encode_df.info()"
   ]
  },
  {
   "cell_type": "code",
   "execution_count": 11,
   "metadata": {},
   "outputs": [
    {
     "data": {
      "text/html": [
       "<div>\n",
       "<style scoped>\n",
       "    .dataframe tbody tr th:only-of-type {\n",
       "        vertical-align: middle;\n",
       "    }\n",
       "\n",
       "    .dataframe tbody tr th {\n",
       "        vertical-align: top;\n",
       "    }\n",
       "\n",
       "    .dataframe thead th {\n",
       "        text-align: right;\n",
       "    }\n",
       "</style>\n",
       "<table border=\"1\" class=\"dataframe\">\n",
       "  <thead>\n",
       "    <tr style=\"text-align: right;\">\n",
       "      <th></th>\n",
       "      <th>date</th>\n",
       "      <th>tavg_f</th>\n",
       "      <th>Location</th>\n",
       "      <th>Location_Anaheim</th>\n",
       "    </tr>\n",
       "  </thead>\n",
       "  <tbody>\n",
       "    <tr>\n",
       "      <th>0</th>\n",
       "      <td>736695</td>\n",
       "      <td>56.12</td>\n",
       "      <td>Anaheim</td>\n",
       "      <td>1.0</td>\n",
       "    </tr>\n",
       "    <tr>\n",
       "      <th>1</th>\n",
       "      <td>736696</td>\n",
       "      <td>60.80</td>\n",
       "      <td>Anaheim</td>\n",
       "      <td>1.0</td>\n",
       "    </tr>\n",
       "    <tr>\n",
       "      <th>2</th>\n",
       "      <td>736697</td>\n",
       "      <td>61.34</td>\n",
       "      <td>Anaheim</td>\n",
       "      <td>1.0</td>\n",
       "    </tr>\n",
       "    <tr>\n",
       "      <th>3</th>\n",
       "      <td>736698</td>\n",
       "      <td>62.06</td>\n",
       "      <td>Anaheim</td>\n",
       "      <td>1.0</td>\n",
       "    </tr>\n",
       "    <tr>\n",
       "      <th>4</th>\n",
       "      <td>736699</td>\n",
       "      <td>62.24</td>\n",
       "      <td>Anaheim</td>\n",
       "      <td>1.0</td>\n",
       "    </tr>\n",
       "  </tbody>\n",
       "</table>\n",
       "</div>"
      ],
      "text/plain": [
       "     date  tavg_f Location  Location_Anaheim\n",
       "0  736695   56.12  Anaheim               1.0\n",
       "1  736696   60.80  Anaheim               1.0\n",
       "2  736697   61.34  Anaheim               1.0\n",
       "3  736698   62.06  Anaheim               1.0\n",
       "4  736699   62.24  Anaheim               1.0"
      ]
     },
     "execution_count": 11,
     "metadata": {},
     "output_type": "execute_result"
    }
   ],
   "source": [
    "# Concatenate dataframes\n",
    "merged = pd.merge(df_temps, encode_df, left_index=True, right_index=True)\n",
    "merged.head()"
   ]
  },
  {
   "cell_type": "code",
   "execution_count": 12,
   "metadata": {},
   "outputs": [
    {
     "data": {
      "text/plain": [
       "Index(['date', 'tavg_f', 'Location', 'Location_Anaheim'], dtype='object')"
      ]
     },
     "execution_count": 12,
     "metadata": {},
     "output_type": "execute_result"
    }
   ],
   "source": [
    "\n",
    "merged.columns"
   ]
  },
  {
   "cell_type": "code",
   "execution_count": 13,
   "metadata": {},
   "outputs": [],
   "source": [
    "copy_df = merged.copy()"
   ]
  },
  {
   "cell_type": "code",
   "execution_count": 14,
   "metadata": {},
   "outputs": [],
   "source": [
    "# Split into Features and Target\n",
    "X = copy_df[['date',  'Location_Anaheim']]\n",
    "y = copy_df['tavg_f'].to_numpy()\n",
    "y = y.flatten()"
   ]
  },
  {
   "cell_type": "code",
   "execution_count": 15,
   "metadata": {},
   "outputs": [],
   "source": [
    "# Split into Testing and Training Data\n",
    "X_train, X_test, y_train, y_test = train_test_split(X, y, random_state=1)"
   ]
  },
  {
   "cell_type": "code",
   "execution_count": 16,
   "metadata": {},
   "outputs": [],
   "source": [
    "# Scale Data\n",
    "scaler = StandardScaler()\n",
    "X_scaler = scaler.fit(X_train)\n",
    "\n",
    "X_train_scaled = X_scaler.transform(X_train)\n",
    "X_test_scaled = X_scaler.transform(X_test)"
   ]
  },
  {
   "cell_type": "code",
   "execution_count": 17,
   "metadata": {},
   "outputs": [
    {
     "data": {
      "text/plain": [
       "array([[ 1.37679078,  0.        ],\n",
       "       [ 1.70167529,  0.        ],\n",
       "       [ 0.32994069,  0.        ],\n",
       "       ...,\n",
       "       [-0.00593025,  0.        ],\n",
       "       [-1.35726147,  0.        ],\n",
       "       [-0.06086241,  0.        ]])"
      ]
     },
     "execution_count": 17,
     "metadata": {},
     "output_type": "execute_result"
    }
   ],
   "source": [
    "# Preview scaled data\n",
    "X_train_scaled"
   ]
  },
  {
   "cell_type": "code",
   "execution_count": 18,
   "metadata": {},
   "outputs": [],
   "source": [
    "# Create model\n",
    "rf_model = RandomForestRegressor(n_estimators=500, random_state=78)"
   ]
  },
  {
   "cell_type": "code",
   "execution_count": 19,
   "metadata": {},
   "outputs": [],
   "source": [
    "# Fit model\n",
    "rf_model = rf_model.fit(X_train_scaled, y_train)"
   ]
  },
  {
   "cell_type": "code",
   "execution_count": 20,
   "metadata": {},
   "outputs": [],
   "source": [
    "# Predict from model\n",
    "predictions = rf_model.predict(X_test_scaled)"
   ]
  },
  {
   "cell_type": "code",
   "execution_count": 21,
   "metadata": {},
   "outputs": [
    {
     "data": {
      "text/plain": [
       "array([59.36288, 71.25188, 48.7886 , 57.23996, 68.73296, 67.99064,\n",
       "       72.65624, 71.52656, 68.11016, 59.82404, 59.47592, 54.21848,\n",
       "       54.40388, 62.86676, 63.0356 , 69.11168, 70.17116, 54.3398 ,\n",
       "       71.08052, 74.11568, 53.31848, 64.634  , 57.09452, 77.522  ,\n",
       "       57.55424, 68.70308, 69.45584, 60.06344, 63.24152, 66.94844,\n",
       "       73.48352, 62.84516, 51.95876, 74.71904, 68.95544, 80.7962 ,\n",
       "       56.24672, 59.09108, 62.024  , 57.70976, 75.461  , 67.71812,\n",
       "       70.07288, 63.9032 , 77.40788, 57.55748, 60.26576, 61.26764,\n",
       "       72.85676, 61.44944, 64.67648, 56.91416, 60.71684, 57.63524,\n",
       "       80.29112, 70.40588, 67.05212, 63.57488, 70.18916, 81.96944,\n",
       "       59.28944, 59.2322 , 59.98064, 58.51904, 48.30404, 53.72456,\n",
       "       71.00204, 61.57364, 67.96652, 68.25776, 68.7344 , 60.95876,\n",
       "       74.7014 , 64.13432, 56.37776, 64.79492, 61.72232, 57.12152,\n",
       "       71.72744, 69.0008 , 72.29624, 76.1504 , 72.03776, 63.32108,\n",
       "       51.77912, 65.98796, 67.96652, 75.29936, 58.25084, 86.7434 ,\n",
       "       60.03248, 58.59032, 70.556  , 67.37972, 57.80768, 75.0002 ,\n",
       "       57.2396 , 64.00076, 61.25   , 65.07212, 61.24496, 60.46304,\n",
       "       66.71948, 52.71008, 73.74236, 72.6638 , 64.46408, 75.36812,\n",
       "       66.2072 , 76.68248, 67.55828, 59.2646 , 59.81432, 56.23088,\n",
       "       65.09192, 72.18284, 59.35388, 71.10824, 77.59004, 62.79548,\n",
       "       60.40436, 75.8066 , 76.89488, 78.20456, 63.28184, 64.17428,\n",
       "       67.96508, 53.43296, 60.4742 , 75.66008, 57.80768, 73.32368,\n",
       "       61.55168, 79.54052, 69.22832, 72.63176, 54.52916, 75.6824 ,\n",
       "       64.62932, 73.20848, 80.07908, 69.20996, 57.43292, 60.24668,\n",
       "       64.51232, 75.89516, 65.82704, 57.71408, 70.45916, 65.78924,\n",
       "       67.15472, 70.03004, 73.75568, 74.96816, 60.03032, 72.69152,\n",
       "       59.85608, 74.61104, 53.00096, 76.13096, 73.38884, 62.94164,\n",
       "       62.83112, 60.67292, 60.08396, 58.90172, 73.37876, 76.55324,\n",
       "       56.88716, 54.90536, 56.75324, 77.57852, 57.749  , 60.93356,\n",
       "       73.25024, 58.74836, 71.3336 , 57.11   , 64.616  , 64.7114 ,\n",
       "       64.0148 , 77.23544, 58.29512, 61.15676, 65.75288, 70.23596,\n",
       "       63.97844, 56.11784, 68.83448, 62.33324, 62.25692, 70.5434 ,\n",
       "       73.238  , 54.67208, 82.976  , 81.95864, 61.77992, 65.23808,\n",
       "       70.55204, 63.6494 , 55.274  , 73.46516, 64.28192, 55.74344,\n",
       "       60.83672, 79.61216, 70.43936, 65.6492 , 62.81276, 61.58048,\n",
       "       70.7558 , 60.13616, 73.05656, 63.54464, 66.77528, 58.05932,\n",
       "       62.32424, 76.42112, 74.1362 , 75.26624, 60.63764, 59.6228 ,\n",
       "       53.27564, 51.47564, 72.06872, 61.20464, 58.72208, 66.2738 ,\n",
       "       73.61744, 53.61908, 64.34816, 72.61376, 62.99816, 77.01296,\n",
       "       52.31984, 73.80392, 59.64368, 56.8688 , 64.3568 , 52.12796,\n",
       "       64.19264, 64.38488, 64.91948, 60.15056, 63.49676, 70.44656,\n",
       "       70.83896, 71.68352, 69.23552, 68.38124, 56.48   , 74.34248,\n",
       "       63.3056 , 70.16252, 76.1036 , 75.42824, 57.1028 , 68.71064,\n",
       "       64.80464, 53.41136, 82.1444 , 75.59348, 57.45884, 58.36244,\n",
       "       57.71336, 50.81108, 73.82588, 62.04344, 77.558  , 60.25136,\n",
       "       62.82644, 60.75392, 58.44704, 65.1416 , 58.28108, 62.82068,\n",
       "       56.70896, 71.0294 , 67.33436, 62.63672, 61.56248, 74.85404,\n",
       "       77.12384, 77.729  , 71.12336, 71.32712, 63.47192, 55.57532,\n",
       "       66.2234 , 71.08916, 67.44308, 62.04848, 79.36844, 56.88896,\n",
       "       61.29428, 54.07916, 69.9386 , 56.6492 , 71.98844, 67.9154 ,\n",
       "       77.46008, 79.42712, 70.3724 , 71.98484, 63.743  , 66.68384,\n",
       "       59.51192, 57.31736, 63.527  , 62.60288, 58.37648, 64.50512,\n",
       "       72.27896, 62.83616, 52.56068, 76.8506 , 69.37952, 70.93292,\n",
       "       72.81392, 83.40368, 73.8662 , 61.75904, 78.23876, 71.87684,\n",
       "       57.77132, 68.31428, 64.91588, 77.6246 , 62.4164 , 69.84932,\n",
       "       58.48232, 74.85548, 84.92612, 56.04404, 73.01372, 51.69128,\n",
       "       67.28576, 75.7382 , 60.59048, 61.85228, 75.16364, 75.1568 ,\n",
       "       72.94208, 57.96176, 58.02584, 60.07388, 63.59936, 65.5088 ,\n",
       "       76.66592, 51.2762 , 59.37944, 71.92796, 69.69236, 73.6898 ,\n",
       "       66.90164, 58.37504, 75.72272, 65.40908, 63.85712, 67.06148,\n",
       "       63.77756, 61.52144, 64.21928, 76.80848, 76.06436, 64.47092,\n",
       "       54.94676, 61.84076, 78.72008, 59.61812, 56.57504, 63.26636,\n",
       "       72.19796, 69.35864, 52.69424, 55.58396, 78.63116, 76.48376,\n",
       "       69.75356, 57.24032, 56.318  , 66.13772, 63.08924, 60.57824,\n",
       "       68.74304, 70.33748, 73.31756, 53.49884, 65.37164, 52.31192,\n",
       "       59.0882 , 76.55072, 59.8982 , 60.24668, 67.64756, 73.7168 ,\n",
       "       56.68376, 56.5934 , 59.69408, 80.66948, 66.12368, 54.75092,\n",
       "       63.69008, 73.81472, 79.70144, 68.52704, 65.6186 , 56.67404,\n",
       "       60.46232, 74.13908, 78.83204, 72.25808, 53.04884, 66.94592,\n",
       "       57.58772, 74.12864, 82.75532, 61.61468, 56.58584, 77.94752,\n",
       "       62.18708, 55.18796, 76.4312 , 75.16688, 69.5696 , 76.04636,\n",
       "       55.89032, 60.88388, 61.21148, 68.44568, 53.59172, 71.30984,\n",
       "       72.97988, 68.01188, 53.48876, 66.43472, 58.5914 , 64.13288,\n",
       "       58.39196, 56.14808, 62.22596, 60.96128, 63.96404, 70.5092 ,\n",
       "       72.39596, 77.22932, 69.179  , 78.40796, 62.8988 , 58.7588 ,\n",
       "       55.73552, 58.39196, 57.245  , 56.91092, 70.9124 , 60.19016,\n",
       "       75.6572 , 80.40848, 58.97336, 63.67424, 62.62088, 76.84628,\n",
       "       54.35204, 69.30896, 59.16956, 61.81232, 50.49212, 55.6664 ,\n",
       "       75.92792, 73.33628, 54.5558 , 66.32816, 62.35232, 62.97152,\n",
       "       53.81384, 70.8242 , 68.2844 , 66.81164, 60.72008, 63.1724 ,\n",
       "       61.01816, 68.33516, 69.728  , 70.11392, 64.14296, 61.6298 ,\n",
       "       64.2542 , 53.01464, 71.84912, 67.51904, 65.82164, 69.48464,\n",
       "       75.94988, 57.28928, 66.33356, 58.0244 , 58.82828, 71.46212,\n",
       "       62.26736, 68.23184, 71.95712, 65.39072, 67.6868 , 62.97044,\n",
       "       60.77264, 60.78704, 67.30952, 66.3134 , 73.27328, 70.1618 ,\n",
       "       65.15924, 53.11688, 76.90892, 62.23712, 54.13208, 56.23376,\n",
       "       75.25076, 73.58252, 62.80052, 57.52688, 74.42888, 75.98588,\n",
       "       74.48324, 75.19208, 58.2116 , 58.61948, 62.24252, 58.62776,\n",
       "       59.99864, 65.3216 , 63.69296, 76.76996, 62.70836, 75.10532,\n",
       "       63.509  , 64.8068 , 55.55444, 60.8342 , 57.62444, 59.39384,\n",
       "       59.03816, 69.07064, 69.39464, 65.20172, 80.77784, 52.04084,\n",
       "       70.86956, 57.49196])"
      ]
     },
     "execution_count": 21,
     "metadata": {},
     "output_type": "execute_result"
    }
   ],
   "source": [
    "# Preview prediction results\n",
    "predictions"
   ]
  },
  {
   "cell_type": "code",
   "execution_count": 22,
   "metadata": {},
   "outputs": [
    {
     "data": {
      "text/html": [
       "<div>\n",
       "<style scoped>\n",
       "    .dataframe tbody tr th:only-of-type {\n",
       "        vertical-align: middle;\n",
       "    }\n",
       "\n",
       "    .dataframe tbody tr th {\n",
       "        vertical-align: top;\n",
       "    }\n",
       "\n",
       "    .dataframe thead th {\n",
       "        text-align: right;\n",
       "    }\n",
       "</style>\n",
       "<table border=\"1\" class=\"dataframe\">\n",
       "  <thead>\n",
       "    <tr style=\"text-align: right;\">\n",
       "      <th></th>\n",
       "      <th>Prediction</th>\n",
       "      <th>Actual</th>\n",
       "    </tr>\n",
       "  </thead>\n",
       "  <tbody>\n",
       "    <tr>\n",
       "      <th>0</th>\n",
       "      <td>59.36288</td>\n",
       "      <td>59.00</td>\n",
       "    </tr>\n",
       "    <tr>\n",
       "      <th>1</th>\n",
       "      <td>71.25188</td>\n",
       "      <td>77.00</td>\n",
       "    </tr>\n",
       "    <tr>\n",
       "      <th>2</th>\n",
       "      <td>48.78860</td>\n",
       "      <td>47.84</td>\n",
       "    </tr>\n",
       "    <tr>\n",
       "      <th>3</th>\n",
       "      <td>57.23996</td>\n",
       "      <td>51.80</td>\n",
       "    </tr>\n",
       "    <tr>\n",
       "      <th>4</th>\n",
       "      <td>68.73296</td>\n",
       "      <td>69.80</td>\n",
       "    </tr>\n",
       "    <tr>\n",
       "      <th>...</th>\n",
       "      <td>...</td>\n",
       "      <td>...</td>\n",
       "    </tr>\n",
       "    <tr>\n",
       "      <th>543</th>\n",
       "      <td>65.20172</td>\n",
       "      <td>59.00</td>\n",
       "    </tr>\n",
       "    <tr>\n",
       "      <th>544</th>\n",
       "      <td>80.77784</td>\n",
       "      <td>82.22</td>\n",
       "    </tr>\n",
       "    <tr>\n",
       "      <th>545</th>\n",
       "      <td>52.04084</td>\n",
       "      <td>51.62</td>\n",
       "    </tr>\n",
       "    <tr>\n",
       "      <th>546</th>\n",
       "      <td>70.86956</td>\n",
       "      <td>66.92</td>\n",
       "    </tr>\n",
       "    <tr>\n",
       "      <th>547</th>\n",
       "      <td>57.49196</td>\n",
       "      <td>54.86</td>\n",
       "    </tr>\n",
       "  </tbody>\n",
       "</table>\n",
       "<p>548 rows × 2 columns</p>\n",
       "</div>"
      ],
      "text/plain": [
       "     Prediction  Actual\n",
       "0      59.36288   59.00\n",
       "1      71.25188   77.00\n",
       "2      48.78860   47.84\n",
       "3      57.23996   51.80\n",
       "4      68.73296   69.80\n",
       "..          ...     ...\n",
       "543    65.20172   59.00\n",
       "544    80.77784   82.22\n",
       "545    52.04084   51.62\n",
       "546    70.86956   66.92\n",
       "547    57.49196   54.86\n",
       "\n",
       "[548 rows x 2 columns]"
      ]
     },
     "execution_count": 22,
     "metadata": {},
     "output_type": "execute_result"
    }
   ],
   "source": [
    "# Preview predictions and actual results\n",
    "pd.DataFrame({\"Prediction\": predictions, \"Actual\": y_test})"
   ]
  },
  {
   "cell_type": "code",
   "execution_count": 23,
   "metadata": {},
   "outputs": [
    {
     "name": "stdout",
     "output_type": "stream",
     "text": [
      "Mean Squared Error: 5.382658806648126\n",
      "R-squared: 0.9185615075889408\n"
     ]
    }
   ],
   "source": [
    "# Evaluate the model\n",
    "mse = mean_squared_error(y_test, predictions)\n",
    "print(f'Mean Squared Error: {mse}')\n",
    "\n",
    "r2 = r2_score(y_test, predictions)\n",
    "print(f'R-squared: {r2}')"
   ]
  },
  {
   "cell_type": "code",
   "execution_count": 25,
   "metadata": {},
   "outputs": [],
   "source": [
    "# User input\n",
    "location_input = input(\"Enter the location (Anaheim): \")\n",
    "date_input = input(\"Enter the date (YYYY-MM-DD): \")\n",
    "# tmin_input = float(input(\"Enter the expected minimum temperature (°F)\"))\n",
    "# tmax_input = float(input(\"Enter the expected maximum temperature (°F)\"))"
   ]
  },
  {
   "cell_type": "code",
   "execution_count": 26,
   "metadata": {},
   "outputs": [
    {
     "name": "stdout",
     "output_type": "stream",
     "text": [
      "Anaheim 2025-01-31\n"
     ]
    }
   ],
   "source": [
    "# View user input\n",
    "print(location_input, date_input)"
   ]
  },
  {
   "cell_type": "code",
   "execution_count": 28,
   "metadata": {},
   "outputs": [
    {
     "data": {
      "text/plain": [
       "array([[739282,      1]])"
      ]
     },
     "execution_count": 28,
     "metadata": {},
     "output_type": "execute_result"
    }
   ],
   "source": [
    "# Use input with model to predict temperature\n",
    "# Code developed using Xpert Learning Assistant, 2025\n",
    "locations = ['Anaheim']\n",
    "binary_features = [1 if loc == location_input else 0 for loc in locations]\n",
    "date_num = pd.to_datetime(date_input).date()\n",
    "date_ord = date_num.toordinal()\n",
    "input_features = np.array([[date_ord] + binary_features])\n",
    "input_features"
   ]
  },
  {
   "cell_type": "code",
   "execution_count": 29,
   "metadata": {},
   "outputs": [
    {
     "name": "stdout",
     "output_type": "stream",
     "text": [
      "The predicted average temperature in Anaheim on 2025-01-31 is: 56.52 °F\n"
     ]
    }
   ],
   "source": [
    "# Predict using User Input\n",
    "predicted_temperature = rf_model.predict(input_features)\n",
    "print(f\"The predicted average temperature in {location_input} on {date_input} is: {round(predicted_temperature[0], 2)} °F\")"
   ]
  },
  {
   "cell_type": "code",
   "execution_count": 31,
   "metadata": {},
   "outputs": [
    {
     "data": {
      "text/plain": [
       "['weather_regressor_1.pkl']"
      ]
     },
     "execution_count": 31,
     "metadata": {},
     "output_type": "execute_result"
    }
   ],
   "source": [
    "# This code was created by OpenAI's Chat GPT (January 2025)\n",
    "# Save the model\n",
    "joblib.dump(rf_model, 'weather_regressor_1.pkl', protocol=2)"
   ]
  },
  {
   "cell_type": "code",
   "execution_count": null,
   "metadata": {},
   "outputs": [],
   "source": []
  }
 ],
 "metadata": {
  "kernelspec": {
   "display_name": "dev",
   "language": "python",
   "name": "python3"
  },
  "language_info": {
   "codemirror_mode": {
    "name": "ipython",
    "version": 3
   },
   "file_extension": ".py",
   "mimetype": "text/x-python",
   "name": "python",
   "nbconvert_exporter": "python",
   "pygments_lexer": "ipython3",
   "version": "3.10.14"
  }
 },
 "nbformat": 4,
 "nbformat_minor": 2
}
